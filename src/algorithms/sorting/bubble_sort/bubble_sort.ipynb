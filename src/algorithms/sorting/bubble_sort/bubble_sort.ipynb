{
 "cells": [
  {
   "cell_type": "markdown",
   "id": "83ddf92a-49a9-4f2f-8fb7-4a62fc7f7a01",
   "metadata": {},
   "source": [
    "# Bubble Sort\n",
    "[Bubble sort](https://en.wikipedia.org/wiki/Bubble_sort) is a poorly performant [sorting algorithm](https://en.wikipedia.org/wiki/Sorting_algorithm) used primarily as an educational tool.\n",
    "\n",
    "```{note}\n",
    "Even though **bubble sort** is a notoriously slow algorithm, when [threads](https://en.wikipedia.org/wiki/Thread_(computing)) are allowed, bubble sort performs in **O(n)** time, making it considerably faster than parallel implementations of [insertion sort](https://en.wikipedia.org/wiki/Insertion_sort) or [selection sort](https://en.wikipedia.org/wiki/Selection_sort) which do not parallelize as effectively.\n",
    "```"
   ]
  },
  {
   "cell_type": "code",
   "execution_count": 14,
   "id": "167b49af-5b02-4766-b78a-ca3ecfa972e2",
   "metadata": {},
   "outputs": [
    {
     "name": "stdout",
     "output_type": "stream",
     "text": [
      "[1, 2, 3, 4, 5, 6, 7]\n"
     ]
    }
   ],
   "source": [
    "# %load no_optimizations.py\n",
    "def bubble_sort(arr):\n",
    "    \"\"\"\n",
    "    Sort a list, in place, in ascending order.\n",
    "    \"\"\"\n",
    "    n = len(arr)\n",
    "    while n > 0:\n",
    "        i = 0\n",
    "        while i < n - 1:\n",
    "            if arr[i] > arr[i+1]:\n",
    "                arr[i], arr[i+1] = arr[i+1], arr[i]\n",
    "            i += 1\n",
    "        n -= 1\n",
    "\n",
    "# Let's use the algorithm!\n",
    "list = [7, 4, 5, 6, 1, 2, 3]\n",
    "bubble_sort(list)\n",
    "print(list)"
   ]
  },
  {
   "cell_type": "markdown",
   "id": "3d47c73b-2373-47f1-9660-6e98ff03cd52",
   "metadata": {},
   "source": [
    "To use this sorting function, we've defined an unordered list of integers (named `list`), and passed it as an argument to our `bubble_sort` method; finally we printed the list:"
   ]
  },
  {
   "cell_type": "markdown",
   "id": "90920ed3-e215-490f-a4d6-074c0af4a82d",
   "metadata": {},
   "source": [
    "The following animation illustrates how the algorithm works:"
   ]
  },
  {
   "cell_type": "code",
   "execution_count": 13,
   "id": "ab1dbc41-3677-4627-a289-fee869efd70a",
   "metadata": {},
   "outputs": [
    {
     "data": {
      "application/vnd.jupyter.widget-view+json": {
       "model_id": "ad1bbd0c12e24821a2bd598ede31fbdd",
       "version_major": 2,
       "version_minor": 0
      },
      "text/plain": [
       "Video(value=b'\\x00\\x00\\x00 ftypisom\\x00\\x00\\x02\\x00isomiso2avc1mp41\\x00\\x00\\x00\\x08free...', width='600')"
      ]
     },
     "execution_count": 13,
     "metadata": {},
     "output_type": "execute_result"
    }
   ],
   "source": [
    "from ipywidgets import Video\n",
    "Video.from_file('./animations/BubbleSort.mp4', width=600)"
   ]
  },
  {
   "cell_type": "markdown",
   "id": "9091b7dd-4665-4bbd-9b35-c5eca7931e52",
   "metadata": {},
   "source": [
    "In the function above, we are using two loops (one nested within the other one):\n",
    "\n",
    "- An **outer loop** which is controlled by a variable named `n`. The value of this variable will depend on the amount of items in the list. For a list of `n` items, we have to do `n` comparisons. For reasons we'll see later, it's a good idea to initialize `n` to the number of items in the list, minus one; in this case the list has `7` items, so we initialize `n` to `0` (that will still run the outer loop `7` times, from `6` to `0`).\n",
    "- An **inner loop** controlled by a variable named `i`. On each iteration of the **outer loop**, `i` has to be reset to `0` before entering the **inner loop**. This inner loop has to run, a maximum of `n - 1`. We'll always be comparing the item at position `i` with the following item, at position `i + 1`.\n",
    "\n",
    "```{note}\n",
    "If we have a list of 3 items, we have to do 2 comparisons:\n",
    "\n",
    "- The first number with the second one.\n",
    "- The second with the third one.\n",
    "\n",
    "That's why for a list of `n` items we always need `n-1` comparisons\n",
    "```"
   ]
  },
  {
   "cell_type": "markdown",
   "id": "1ee57861-f446-4acc-8178-2a8c2bec014a",
   "metadata": {},
   "source": [
    "## Refactoring\n",
    "As you can see, our bubble sort implementation works fine, but let's refactor it to make it look nicer. In order to do that we'll extract the logic that compares and swaps items to two separate functions:"
   ]
  },
  {
   "cell_type": "code",
   "execution_count": 19,
   "id": "45f413e7-f2aa-4212-a117-c656d0d9a172",
   "metadata": {},
   "outputs": [],
   "source": [
    "# %load -r 1-11 refactored\n",
    "def ascending_order(a, b):\n",
    "    \"\"\"\n",
    "    Takes a list as an argument and returns True if the list is in ascending order; False otherwise.\n",
    "    \"\"\"\n",
    "    return a < b\n",
    "\n",
    "def swap(lst, i):\n",
    "    \"\"\"\n",
    "    Swap its two list item arguments.\n",
    "    \"\"\"\n",
    "    lst[i], lst[i+1] = lst[i+1], lst[i]"
   ]
  },
  {
   "cell_type": "markdown",
   "id": "9435bc85-6dc0-4d6f-8f03-af6f786f49d5",
   "metadata": {},
   "source": [
    "Then we'll make use of these functions in our sorting algorithm:"
   ]
  },
  {
   "cell_type": "code",
   "execution_count": 20,
   "id": "c59992be-d39d-46de-8112-a7502f4c8815",
   "metadata": {},
   "outputs": [
    {
     "name": "stdout",
     "output_type": "stream",
     "text": [
      "[1, 2, 3, 4, 5, 6, 7]\n"
     ]
    }
   ],
   "source": [
    "# %load refactored\n",
    "def ascending_order(a, b):\n",
    "    \"\"\"\n",
    "    Takes a list as an argument and returns True if the list is in ascending order, and False otherwise.\n",
    "    \"\"\"\n",
    "    return a < b\n",
    "\n",
    "def swap(lst, i):\n",
    "    \"\"\"\n",
    "    Swap its two list item arguments.\n",
    "    \"\"\"\n",
    "    lst[i], lst[i+1] = lst[i+1], lst[i]\n",
    "\n",
    "def bubble_sort(lst, in_order, swap):\n",
    "    \"\"\"\n",
    "    Sort a list, in place, in ascending order.\n",
    "    \"\"\"\n",
    "    n = len(lst) - 1\n",
    "    while n > 0:\n",
    "        i = 0\n",
    "        while i < n:\n",
    "            if not in_order(lst[i], lst[i + 1]):\n",
    "                swap(lst, i)\n",
    "            i += 1\n",
    "        n -= 1\n",
    "\n",
    "# Let's try it!\n",
    "list = [7, 4, 5, 6, 1, 2, 3]\n",
    "bubble_sort(list, ascending_order, swap)\n",
    "print(list)"
   ]
  },
  {
   "cell_type": "markdown",
   "id": "7cdfef35-a781-4f4a-b4b0-ad5cf6bae769",
   "metadata": {},
   "source": [
    "Using these two functions, our **inner loop** looks way more readable, not to mention how flexible it is to pass a **comparator** function: \n",
    "\n",
    "- We can reuse the algoritm to sort in any order.\n",
    "- We're not limited to sort integers; if we want to sort a list of dictionaries, we can pass a comparator function that compares the items by any property we want (and in any order)."
   ]
  },
  {
   "cell_type": "markdown",
   "id": "331d7aa8-4bbe-4eab-9921-c15e4ac5b57d",
   "metadata": {},
   "source": [
    "# Bubble Sort Optimizations\n",
    "The algorithm above works just fine, but with a couple of small changes, we can make it perform better."
   ]
  },
  {
   "cell_type": "markdown",
   "id": "9c189e7e-6c5e-4dfc-a1a9-1cfef9e3ada5",
   "metadata": {},
   "source": [
    "### First Optimization\n",
    "To understand how we can do better, check the following animation:"
   ]
  },
  {
   "cell_type": "code",
   "execution_count": 21,
   "id": "6d882698-a52f-49be-9e05-e728b2fbc311",
   "metadata": {},
   "outputs": [
    {
     "data": {
      "application/vnd.jupyter.widget-view+json": {
       "model_id": "c267994c41c541099b6a695f773443d7",
       "version_major": 2,
       "version_minor": 0
      },
      "text/plain": [
       "Video(value=b'\\x00\\x00\\x00 ftypisom\\x00\\x00\\x02\\x00isomiso2avc1mp41\\x00\\x00\\x00\\x08free...', width='600')"
      ]
     },
     "execution_count": 21,
     "metadata": {},
     "output_type": "execute_result"
    }
   ],
   "source": [
    "from ipywidgets import Video\n",
    "Video.from_file('./animations/BubbleSort2.mp4', width=600)"
   ]
  },
  {
   "cell_type": "markdown",
   "id": "b2cb54a1-cc36-4590-bb60-46811813dca0",
   "metadata": {},
   "source": [
    "As you can see, every time the **inner loop** finishes traversing the array, a **sorted** item bubbles up to the very last position; that happens in order, so the largest item (if we're sorting ascendingly) is placed at the end in the very first iteration of the **outer loop**. So there's no point in the **inner loop** comparing elements that are already sorted.\n",
    "\n",
    "```{hint}\n",
    "We can use the value of `n` as a boundary for the **inner loop**; the value of `i` will never go up to the value of `n`, it will always stay one below. In other words, once `i + 1 == 1`, we reset the value of `i`.\n",
    "```\n",
    "\n",
    "Check the following code:"
   ]
  },
  {
   "cell_type": "code",
   "execution_count": 23,
   "id": "94be6a1a-962a-4eb9-963c-4b59c261dddb",
   "metadata": {},
   "outputs": [
    {
     "name": "stdout",
     "output_type": "stream",
     "text": [
      "[1, 2, 3, 4, 5, 6, 7]\n"
     ]
    }
   ],
   "source": [
    "# %load first_optimization\n",
    "def ascending_order(a, b):\n",
    "    \"\"\"\n",
    "    Takes a list as an argument and returns True if the list is in ascending order, and False otherwise.\n",
    "    \"\"\"\n",
    "    return a < b\n",
    "\n",
    "def swap(lst, i):\n",
    "    \"\"\"\n",
    "    Swap its two list item arguments.\n",
    "    \"\"\"\n",
    "    lst[i], lst[i+1] = lst[i+1], lst[i]\n",
    "\n",
    "def bubble_sort(lst, in_order, swap):\n",
    "    \"\"\"\n",
    "    Sort a list, in place, in ascending order.\n",
    "    \"\"\"\n",
    "    n = len(lst) - 1\n",
    "    while n > 0:\n",
    "        i = 0\n",
    "        while i < n:\n",
    "            if not in_order(lst[i], lst[i + 1]):\n",
    "                swap(lst, i)\n",
    "            i += 1\n",
    "        n -= 1\n",
    "\n",
    "# Let's try it!\n",
    "list = [7, 4, 5, 6, 1, 2, 3]\n",
    "bubble_sort(list, ascending_order, swap)\n",
    "print(list)"
   ]
  },
  {
   "cell_type": "markdown",
   "id": "235cbd1e-773a-4761-9a62-e42d28ab1ea8",
   "metadata": {},
   "source": [
    "As you can see, `n` starts pointing to the **last item** in the list.\n",
    "The value of `i` always stays below `n`, in other words, once `i+1` reaches `n`, we exit the **inner loop**. Check the following animation to see the results:"
   ]
  },
  {
   "cell_type": "code",
   "execution_count": 26,
   "id": "9c5b6fa6-e798-497c-84d0-e96a3c2a77dc",
   "metadata": {},
   "outputs": [
    {
     "data": {
      "application/vnd.jupyter.widget-view+json": {
       "model_id": "31696af93d634fccae704f0281347eea",
       "version_major": 2,
       "version_minor": 0
      },
      "text/plain": [
       "Video(value=b'\\x00\\x00\\x00 ftypisom\\x00\\x00\\x02\\x00isomiso2avc1mp41\\x00\\x00\\x00\\x08free...', width='600')"
      ]
     },
     "execution_count": 26,
     "metadata": {},
     "output_type": "execute_result"
    }
   ],
   "source": [
    "from ipywidgets import Video\n",
    "Video.from_file('./animations/BubbleSort3.mp4', width=600)"
   ]
  },
  {
   "cell_type": "markdown",
   "id": "8319152e-1a43-4f12-9615-bdc2a5e5cbb8",
   "metadata": {},
   "source": [
    "Our optimization has had a measurable impact in the performance of the algorithm, but there's still work to do. As you can see, when `n` is `2`, our list is already sorted, so there's no point in keep the sort going, we can exit the function. Next we'll see how to do that."
   ]
  },
  {
   "cell_type": "markdown",
   "id": "0b431a39-b123-4748-b499-745cf4210c89",
   "metadata": {},
   "source": [
    "### Second Optimization: A Sorted Flag\n",
    "So far, in our implementation the **outer loop** always runs `n` times for an array of `n` elements. But what happens if we're given an array that is completely sorted from the beginning? What's the point of running the outer loop `n` times then? For a small array of 10 or 20 numbers that's not a big deal, but imagine a list with thousands of items. Check the following code:"
   ]
  },
  {
   "cell_type": "code",
   "execution_count": 30,
   "id": "d85ca549-0c84-4db6-a1c9-ce332f61010f",
   "metadata": {},
   "outputs": [
    {
     "name": "stdout",
     "output_type": "stream",
     "text": [
      "[1, 2, 3, 4, 5, 6, 7]\n"
     ]
    }
   ],
   "source": [
    "# %load second_optimization\n",
    "def ascending_order(a, b):\n",
    "    \"\"\"\n",
    "    Takes a list as an argument and returns True if the list is in ascending order, and False otherwise.\n",
    "    \"\"\"\n",
    "    return a < b\n",
    "\n",
    "\n",
    "def swap(lst, i):\n",
    "    \"\"\"\n",
    "    Swap its two list item arguments.\n",
    "    \"\"\"\n",
    "    lst[i], lst[i + 1] = lst[i + 1], lst[i]\n",
    "\n",
    "\n",
    "def bubble_sort(lst, in_order, swap):\n",
    "    \"\"\"\n",
    "    Sort a list, in place, in ascending order.\n",
    "    \"\"\"\n",
    "    n = len(lst) - 1\n",
    "    while n > 0:\n",
    "        sorted = True\n",
    "        i = 0\n",
    "        while i < n:\n",
    "            if not in_order(lst[i], lst[i + 1]):\n",
    "                swap(lst, i)\n",
    "                sorted = False\n",
    "            i += 1\n",
    "        if sorted:\n",
    "            break\n",
    "        n -= 1\n",
    "\n",
    "\n",
    "# Let's try it!\n",
    "list = [7, 4, 5, 6, 1, 2, 3]\n",
    "bubble_sort(list, ascending_order, swap)\n",
    "print(list)\n"
   ]
  },
  {
   "cell_type": "markdown",
   "id": "118fdb62-c603-45e6-add2-22944f1fa4dc",
   "metadata": {},
   "source": [
    "At the beginning of the **outer loop** we've defined a variable named `sorted`, which is set to `True`. If at any point of the **inner loop** we swap two items, we set this variable to `False`, meaning the array wasn't in the right order. But if at the end of the **inner loop** this `sorted` flag is still `True`, that means the list is already sorted, so before entering the next iteration of the **outer loop**, we `break` out of it. We're done sorting. Check the following animation to see the new optimization in action:"
   ]
  },
  {
   "cell_type": "code",
   "execution_count": 32,
   "id": "c47ec885-4b43-461c-8ca0-022c9f64bbdd",
   "metadata": {},
   "outputs": [
    {
     "data": {
      "application/vnd.jupyter.widget-view+json": {
       "model_id": "2566ce39e87d4b9eb0512c27d987f42e",
       "version_major": 2,
       "version_minor": 0
      },
      "text/plain": [
       "Video(value=b'\\x00\\x00\\x00 ftypisom\\x00\\x00\\x02\\x00isomiso2avc1mp41\\x00\\x00\\x00\\x08free...', width='600')"
      ]
     },
     "execution_count": 32,
     "metadata": {},
     "output_type": "execute_result"
    }
   ],
   "source": [
    "from ipywidgets import Video\n",
    "Video.from_file('./animations/BubbleSort4.mp4', width=600)"
   ]
  },
  {
   "cell_type": "markdown",
   "id": "c8350c35-bd37-4d3a-82ee-15f1eac6dc77",
   "metadata": {},
   "source": [
    "As you can see now, as soon as the list is **sorted** (which in this example happens when `n` is at index `2`), we break out of the **outer loop**. "
   ]
  }
 ],
 "metadata": {
  "kernelspec": {
   "display_name": "Python 3 (ipykernel)",
   "language": "python",
   "name": "python3"
  },
  "language_info": {
   "codemirror_mode": {
    "name": "ipython",
    "version": 3
   },
   "file_extension": ".py",
   "mimetype": "text/x-python",
   "name": "python",
   "nbconvert_exporter": "python",
   "pygments_lexer": "ipython3",
   "version": "3.11.4"
  }
 },
 "nbformat": 4,
 "nbformat_minor": 5
}
