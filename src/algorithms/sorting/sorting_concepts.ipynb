{
 "cells": [
  {
   "cell_type": "markdown",
   "id": "f5fa88fa-569d-498c-abd4-767b3497cb0a",
   "metadata": {},
   "source": [
    "# General Sorting Topics\n",
    "Here we'll see some general concepts that apply to most sorting algorithms. The goal is to write readable and flexible code."
   ]
  },
  {
   "cell_type": "markdown",
   "id": "01d0ea7b-8951-4738-9652-4c93f148b1c9",
   "metadata": {},
   "source": [
    "## Determine if a Group of Items is in Order\n",
    "Let's say we have the following list of numbers:\n",
    "\n",
    "```python\n",
    "num_list [2, 3, 1]\n",
    "```\n",
    "\n",
    "How can we determine if all the numbers in the list are in **ascending order**? We'd compare the first item with the second one, the second one with the third one, and so on until we reach the end of the list. If all pair of consecutive items are in ascending order, then we can say the whole list is in order. Let's write a function to do that:"
   ]
  },
  {
   "cell_type": "code",
   "execution_count": 24,
   "id": "335b63b3-f218-433e-8843-e794c4a4c478",
   "metadata": {},
   "outputs": [
    {
     "name": "stdout",
     "output_type": "stream",
     "text": [
      "Is [2, 3, 1, 4, 5] in ascending order? False\n",
      "Is [2, 3, 1, 4, 5] in ascending order? True\n"
     ]
    }
   ],
   "source": [
    "def is_ascending(lst):\n",
    "    \"\"\"\n",
    "    Takes a list as an argument and returns True if the list is in ascending\n",
    "    order, and False otherwise.\n",
    "    \"\"\"\n",
    "    for i in range(len(lst) - 1):\n",
    "        if lst[i] > lst[i+1]:\n",
    "            return False\n",
    "    return True\n",
    "\n",
    "num_list_a = [2, 3, 1, 4, 5]\n",
    "print(f'Is {num_list_a} in ascending order? {is_ascending(num_list_a)}')\n",
    "\n",
    "num_list_b = [1, 2, 3, 4, 5]\n",
    "print(f'Is {num_list_a} in ascending order? {is_ascending(num_list_b)}')"
   ]
  },
  {
   "cell_type": "markdown",
   "id": "ddee9d8f-d95e-4e51-8aed-f9156b0d4e8f",
   "metadata": {},
   "source": [
    "The `is_ascending` function iterates over the list using a for loop and compares each element to the next element using an if statement. If at some point the pair of elements being compared are not in ascending order, the function inmediately returns False (without completing the loop). If the loop completes without finding any out-of-order elements, the function returns True."
   ]
  },
  {
   "cell_type": "markdown",
   "id": "46b1029d-9b55-40a0-9658-7c223b197e77",
   "metadata": {},
   "source": [
    "## Swapping Items\n",
    "When sorting items, once we have determined that a pair of items are not in the right order, we need a way to swap them. In Python that can easily done with tuple unpacking statement:\n",
    "\n",
    "```python\n",
    "a, b = b, a\n",
    "```\n",
    "\n",
    "That's a one-liner in Python, but we could abstract it into a readable function:"
   ]
  },
  {
   "cell_type": "code",
   "execution_count": 25,
   "id": "289fee91-5c38-4d5f-8f41-6c76014c20fb",
   "metadata": {},
   "outputs": [
    {
     "name": "stdout",
     "output_type": "stream",
     "text": [
      "Before swapping, a: {'name': 'Bobby', 'age': 40, 'salary': 3500}, b: {'name': 'Tim', 'age': 22, 'salary': 4000}\n",
      "After swapping, a: {'name': 'Tim', 'age': 22, 'salary': 4000}, b: {'name': 'Bobby', 'age': 40, 'salary': 3500}\n"
     ]
    }
   ],
   "source": [
    "def swap_two_variables(a, b):\n",
    "    \"\"\"\n",
    "    Swap its two variable arguments, and returns them as an inverted tuple.\n",
    "    \"\"\"\n",
    "    return b, a\n",
    "\n",
    "print(f'Before swapping, a: {a}, b: {b}')\n",
    "# We need to unpack the return value\n",
    "a, b = swap_two_variables(a, b)\n",
    "print(f'After swapping, a: {a}, b: {b}')"
   ]
  },
  {
   "cell_type": "markdown",
   "id": "122c7371-51f4-4304-8532-1c44c5769e3d",
   "metadata": {},
   "source": [
    "That's how swapping two variables is done, but how would we swap two list items?"
   ]
  },
  {
   "cell_type": "code",
   "execution_count": 26,
   "id": "af4cfaa0-3311-443d-aef2-3b877ff9c5e0",
   "metadata": {},
   "outputs": [
    {
     "name": "stdout",
     "output_type": "stream",
     "text": [
      "list before swapping: [2, 1]\n",
      "list after swapping: [1, 2]\n"
     ]
    }
   ],
   "source": [
    "def swap(lst, i, j):\n",
    "    \"\"\"Swap its two list item arguments.\"\"\"\n",
    "    lst[i], lst[j] = lst[j], lst[i]\n",
    "\n",
    "lst = [2, 1]\n",
    "print(f'list before swapping: {lst}')\n",
    "swap(lst, 0, 1)\n",
    "print(f'list after swapping: {lst}')"
   ]
  },
  {
   "cell_type": "markdown",
   "id": "c1ed2ed3-fba5-4e6c-b7ba-d090d512b7c2",
   "metadata": {},
   "source": [
    "In the function above, we need to pass three arguments:\n",
    "\n",
    "- The list.\n",
    "- The index of the first item.\n",
    "- The index of the second item.\n",
    "\n",
    "Inside the function, we just point the list items to the swapped values using the same tuple unpacking technique. The function above can be refactored so that we only need to pass 2 arguments:"
   ]
  },
  {
   "cell_type": "code",
   "execution_count": 27,
   "id": "9f05137d-4976-43b9-87b9-d6691b132547",
   "metadata": {},
   "outputs": [],
   "source": [
    "def swap(list, i):\n",
    "    \"\"\"\n",
    "    Receive a list and an index, and swap the item\n",
    "    at index i, with the next item (at i + 1).\n",
    "    \"\"\"\n",
    "    list[i], list[i + 1] = list[i + 1], list[i]"
   ]
  },
  {
   "cell_type": "markdown",
   "id": "e8ac9602-6f6f-4407-9a33-8b68434666ff",
   "metadata": {},
   "source": [
    "## A Comparator Function\n",
    "Before deciding if two items are in the proper order we need to know two things:\n",
    "\n",
    "- In what order do we want to arrange the items, for example, we want ascending or descending order.\n",
    "- Also, how are we comparing the items. Comparing two numbers is trivial (e.g. is 5 greater than 2) but if we want to compare two dictionaries, what properties are we comparing?\n",
    "\n",
    "We could totally write the logic to perform these actions within the sorting algorithm, but it's way more flexible to extract it into a comparator function, that we can later on pass as an argument to our algorithm. That way our algoritm can be used to sort list numbers, dictionaries, and we can sort in ascending or descending order.\n",
    "\n",
    "### Comparing two numbers\n",
    "Let's write a function that determines if its two arguments are in **ascending order**:"
   ]
  },
  {
   "cell_type": "code",
   "execution_count": 28,
   "id": "d9e38a8f-d02b-46cc-9948-432496cc1e82",
   "metadata": {},
   "outputs": [
    {
     "name": "stdout",
     "output_type": "stream",
     "text": [
      "Are 3 and 2 in ascending order? False\n"
     ]
    }
   ],
   "source": [
    "def ascending_order(a, b):\n",
    "    \"\"\"Determine if two items are in ascending order.\"\"\"\n",
    "    return a < b\n",
    "\n",
    "a = 3\n",
    "b = 2\n",
    "print(f'Are {a} and {b} in ascending order? {ascending_order(a, b)}')"
   ]
  },
  {
   "cell_type": "markdown",
   "id": "322702bf-fbd0-4ddf-b1c2-013154811fd8",
   "metadata": {},
   "source": [
    "### Comparing two Dictionaries\n",
    "Now imagine we have the following two dictionaries:"
   ]
  },
  {
   "cell_type": "code",
   "execution_count": 20,
   "id": "b7c362b3-0c5e-4dd7-aa2f-6d2a46b3a1e7",
   "metadata": {},
   "outputs": [],
   "source": [
    "employees = [\n",
    "    {\n",
    "        'name': 'Bobby',\n",
    "        'age': 40,\n",
    "        'salary': 3500\n",
    "    },\n",
    "    {\n",
    "        'name': 'Tim',\n",
    "        'age': 22,\n",
    "        'salary': 4000\n",
    "    },\n",
    "]"
   ]
  },
  {
   "cell_type": "markdown",
   "id": "6e08b9f9-c023-4130-a960-fd16e4b09270",
   "metadata": {},
   "source": [
    "If we wanted to order the employees in **ascending order** by **age**, `Tim` would come before `Bob` (Tim is younger). But if we order them by **salary**, `Bob` will come first (Bob is older, but makes less money than Tim). Let's write a comparator to determine if its two employee arguments are in **descending order** by age:"
   ]
  },
  {
   "cell_type": "code",
   "execution_count": 29,
   "id": "028743fb-8e42-476e-804d-4e7f7dfee8c2",
   "metadata": {},
   "outputs": [
    {
     "name": "stdout",
     "output_type": "stream",
     "text": [
      "Is Bobby older than Tim? True\n"
     ]
    }
   ],
   "source": [
    "def descending_order_by_age(a, b):\n",
    "    \"\"\"Determine if two employees are in descending order, by age.\"\"\"\n",
    "    return a['age'] > b['age']\n",
    "\n",
    "a = employees[0]\n",
    "b = employees[1]\n",
    "print(f\"Is {a['name']} older than {b['name']}? {descending_order_by_age(a, b)}\")"
   ]
  },
  {
   "cell_type": "markdown",
   "id": "41b59cb7-2171-47c0-864b-7a68b21df39f",
   "metadata": {},
   "source": [
    "### Comparators in Python\n",
    "In Python, built-in sorting functions such as [sorted](https://docs.python.org/3/library/functions.html#sorted) or list methods such as [sort](https://docs.python.org/3/library/stdtypes.html?highlight=sort#list.sort), use comparators in a slightly different way. For example, let's use the `sorted` built-in function to sort the list of employees by age:"
   ]
  },
  {
   "cell_type": "code",
   "execution_count": 18,
   "id": "9b028d14-4e8a-46b4-888d-2efc2e91d427",
   "metadata": {},
   "outputs": [
    {
     "name": "stdout",
     "output_type": "stream",
     "text": [
      "[{'name': 'Tim', 'age': 22, 'salary': 4000}, {'name': 'Bob', 'age': 40, 'salary': 3500}]\n"
     ]
    }
   ],
   "source": [
    "print(\n",
    "    sorted(employees, key=lambda e: e[\"age\"])    \n",
    ")"
   ]
  },
  {
   "cell_type": "markdown",
   "id": "af2bc7b7-1d57-486b-892c-0a848c4e1dcf",
   "metadata": {},
   "source": [
    "And if we wanted to sort in **descending order**, we'd pass the [keyword-only argument](https://docs.python.org/3/glossary.html#keyword-only-parameter) `reverse=True`. For example, let's say we want to sort the employees by the length of their `name` property, in descending order:"
   ]
  },
  {
   "cell_type": "code",
   "execution_count": 23,
   "id": "180963ee-1ea7-4d29-876e-163a779a31e8",
   "metadata": {},
   "outputs": [
    {
     "name": "stdout",
     "output_type": "stream",
     "text": [
      "[{'name': 'Bobby', 'age': 40, 'salary': 3500}, {'name': 'Tim', 'age': 22, 'salary': 4000}]\n"
     ]
    }
   ],
   "source": [
    "print(\n",
    "    sorted(employees, key=lambda e: len(e['name']), reverse=True)    \n",
    ")"
   ]
  },
  {
   "cell_type": "markdown",
   "id": "8351467d-4302-4d7a-b14d-6e09dc410ae4",
   "metadata": {},
   "source": [
    "The comparators we pass to these functions take only **one argument**, and the order of the sorting is decided in a separate parameter of the sorting function (no need to take care of it in the comparator itself)."
   ]
  }
 ],
 "metadata": {
  "kernelspec": {
   "display_name": "Python 3 (ipykernel)",
   "language": "python",
   "name": "python3"
  },
  "language_info": {
   "codemirror_mode": {
    "name": "ipython",
    "version": 3
   },
   "file_extension": ".py",
   "mimetype": "text/x-python",
   "name": "python",
   "nbconvert_exporter": "python",
   "pygments_lexer": "ipython3",
   "version": "3.11.4"
  }
 },
 "nbformat": 4,
 "nbformat_minor": 5
}
