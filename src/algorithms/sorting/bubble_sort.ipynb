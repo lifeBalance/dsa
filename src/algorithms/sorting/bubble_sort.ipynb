{
 "cells": [
  {
   "cell_type": "markdown",
   "id": "83ddf92a-49a9-4f2f-8fb7-4a62fc7f7a01",
   "metadata": {},
   "source": [
    "# Bubble Sort\n",
    "[Bubble sort](https://en.wikipedia.org/wiki/Bubble_sort) is a poorly performant [sorting algorithm](https://en.wikipedia.org/wiki/Sorting_algorithm) used primarily as an educational tool.\n",
    "\n",
    "```{note}\n",
    "Even though **bubble sort** is a notoriously slow algorithm, when [threads](https://en.wikipedia.org/wiki/Thread_(computing)) are allowed, bubble sort performs in **O(n)** time, making it considerably faster than parallel implementations of insertion sort or selection sort which do not parallelize as effectively.\n",
    "```"
   ]
  },
  {
   "cell_type": "code",
   "execution_count": 14,
   "id": "3f192ae3-9109-42c3-aa92-0dbed49b3bfd",
   "metadata": {},
   "outputs": [],
   "source": [
    "\"\"\"\n",
    "Receive a list and an index, and swap the item\n",
    "at index i, with the next item (at i + 1).\n",
    "\"\"\"\n",
    "def swap(list, i):\n",
    "    list[i], list[i + 1] = list[i + 1], list[i]"
   ]
  },
  {
   "cell_type": "code",
   "execution_count": 21,
   "id": "167b49af-5b02-4766-b78a-ca3ecfa972e2",
   "metadata": {},
   "outputs": [],
   "source": [
    "\"\"\"\n",
    "Sort a list, in place, in ascending order.\n",
    "\"\"\"\n",
    "def bubble_sort(arr):\n",
    "    list_length = len(arr)\n",
    "    for i in range(list_length):\n",
    "        last_elem = list_length - i - 1\n",
    "        for j in range(0, last_elem):\n",
    "            if arr[j] > arr[j + 1]:\n",
    "                swap(arr, j)"
   ]
  },
  {
   "cell_type": "code",
   "execution_count": 22,
   "id": "ad66a2cc-c2ab-47fe-bf5d-1485ca8cbe15",
   "metadata": {},
   "outputs": [
    {
     "name": "stdout",
     "output_type": "stream",
     "text": [
      "[1, 3, 5, 10, 22]\n"
     ]
    }
   ],
   "source": [
    "list = [10, 3, 22, 1, 5]\n",
    "bubble_sort(list)\n",
    "print(list)"
   ]
  },
  {
   "cell_type": "markdown",
   "id": "0b431a39-b123-4748-b499-745cf4210c89",
   "metadata": {},
   "source": [
    "In the first iteration of the outer loop, the inner loop traverses the array fully, swapping any number that is not in the right order. But imagine the scenario when there are no **swaps** in this first pass. That would mean that the list is already sorted; continuing looping in that case is a waste of time."
   ]
  },
  {
   "cell_type": "markdown",
   "id": "118fdb62-c603-45e6-add2-22944f1fa4dc",
   "metadata": {},
   "source": [
    "## Optimization Flag\n",
    "The algorithm above can be optimized for those situations where the argument list is already sorted. We just have to add a boolean flag, initially set to `False` at the beginning of each iteration of the outer loop (and obviously at the beginning of the program), that will become `True` as soon as a swap is performed."
   ]
  },
  {
   "cell_type": "code",
   "execution_count": 23,
   "id": "d85ca549-0c84-4db6-a1c9-ce332f61010f",
   "metadata": {},
   "outputs": [],
   "source": [
    "def bubble_sort(arr):\n",
    "    swapped = False\n",
    "    list_length = len(arr)\n",
    "\n",
    "    for i in range(list_length):\n",
    "        last_elem = list_length - i - 1\n",
    "        for j in range(0, last_elem):\n",
    "            if arr[j] > arr[j + 1]:\n",
    "                swap(arr, j)\n",
    "                swapped = True\n",
    "        if not swapped:\n",
    "            break"
   ]
  },
  {
   "cell_type": "code",
   "execution_count": 24,
   "id": "c47ec885-4b43-461c-8ca0-022c9f64bbdd",
   "metadata": {},
   "outputs": [
    {
     "name": "stdout",
     "output_type": "stream",
     "text": [
      "[1, 2, 3, 4, 5]\n"
     ]
    }
   ],
   "source": [
    "list = [1, 2, 3, 4, 5]\n",
    "bubble_sort(list)\n",
    "print(list)"
   ]
  }
 ],
 "metadata": {
  "kernelspec": {
   "display_name": "Python 3 (ipykernel)",
   "language": "python",
   "name": "python3"
  },
  "language_info": {
   "codemirror_mode": {
    "name": "ipython",
    "version": 3
   },
   "file_extension": ".py",
   "mimetype": "text/x-python",
   "name": "python",
   "nbconvert_exporter": "python",
   "pygments_lexer": "ipython3",
   "version": "3.11.4"
  }
 },
 "nbformat": 4,
 "nbformat_minor": 5
}
