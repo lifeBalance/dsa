{
 "cells": [
  {
   "cell_type": "markdown",
   "id": "83ddf92a-49a9-4f2f-8fb7-4a62fc7f7a01",
   "metadata": {},
   "source": [
    "# Bubble Sort\n",
    "[Bubble sort](https://en.wikipedia.org/wiki/Bubble_sort) is a poorly performant [sorting algorithm](https://en.wikipedia.org/wiki/Sorting_algorithm) used primarily as an educational tool.\n",
    "\n",
    "```{note}\n",
    "Even though **bubble sort** is a notoriously slow algorithm, when [threads](https://en.wikipedia.org/wiki/Thread_(computing)) are allowed, bubble sort performs in **O(n)** time, making it considerably faster than parallel implementations of [insertion sort](https://en.wikipedia.org/wiki/Insertion_sort) or [selection sort](https://en.wikipedia.org/wiki/Selection_sort) which do not parallelize as effectively.\n",
    "```"
   ]
  },
  {
   "cell_type": "code",
   "execution_count": 34,
   "id": "167b49af-5b02-4766-b78a-ca3ecfa972e2",
   "metadata": {},
   "outputs": [],
   "source": [
    "def bubble_sort(arr):\n",
    "    \"\"\"\n",
    "    Sort a list, in place, in ascending order.\n",
    "    \"\"\"\n",
    "    n = len(arr)\n",
    "    while n > 0:\n",
    "        i = 0\n",
    "        while i < n - 1:\n",
    "            if arr[i] > arr[i+1]:\n",
    "                arr[i], arr[i+1] = arr[i+1], arr[i]\n",
    "            i += 1\n",
    "        n -= 1"
   ]
  },
  {
   "cell_type": "markdown",
   "id": "3d47c73b-2373-47f1-9660-6e98ff03cd52",
   "metadata": {},
   "source": [
    "In the function above, we are using two loops (one nested within the other one):\n",
    "\n",
    "- An **outer loop** which is controlled by a variable named `n`. The value of this variable will depend on the amount of items in the list. For a list of `n` items, we have to do `n` comparisons.\n",
    "- An **inner loop** controlled by a variable named `i`. On each iteration of the **outer loop**, `i` has to be reset before entering the **inner loop**. This inner loop has to run, a maximum of `n - 1`; that's because for a list of let's say 3 items, we have to do 2 comparisons (3 - 1 = 2): we have to compare the first number with the second one, and the second with the third one. \n",
    "\n",
    "Let's call this sorting function, passing an unordered list of numbers as an argument:"
   ]
  },
  {
   "cell_type": "code",
   "execution_count": 35,
   "id": "be2dd193-5bf8-49e5-8aba-dcc86432cd09",
   "metadata": {},
   "outputs": [
    {
     "name": "stdout",
     "output_type": "stream",
     "text": [
      "[1, 3, 5, 10, 22]\n"
     ]
    }
   ],
   "source": [
    "list = [10, 3, 22, 1, 5]\n",
    "bubble_sort(list)\n",
    "print(list)"
   ]
  },
  {
   "cell_type": "markdown",
   "id": "90920ed3-e215-490f-a4d6-074c0af4a82d",
   "metadata": {},
   "source": [
    "As you can see, our bubble sort implementation works fine, but let's refactor it to make it look nicer:"
   ]
  },
  {
   "cell_type": "code",
   "execution_count": 39,
   "id": "45f413e7-f2aa-4212-a117-c656d0d9a172",
   "metadata": {},
   "outputs": [],
   "source": [
    "def ascending_order(a, b):\n",
    "    \"\"\"\n",
    "    Takes a list as an argument and returns True if the list is in ascending order, and False otherwise.\n",
    "    \"\"\"\n",
    "    return a < b\n",
    "\n",
    "def swap(lst, i):\n",
    "    \"\"\"\n",
    "    Swap its two list item arguments.\n",
    "    \"\"\"\n",
    "    lst[i], lst[i+1] = lst[i+1], lst[i]\n",
    "\n",
    "def bubble_sort(lst, in_order, swap):\n",
    "    \"\"\"\n",
    "    Sort a list, in place, in ascending order.\n",
    "    \"\"\"\n",
    "    n = len(lst)\n",
    "    while n > 0:\n",
    "        i = 0\n",
    "        while i < n - 1:\n",
    "            if not in_order:\n",
    "                swap(lst, i)\n",
    "            i += 1\n",
    "        n -= 1"
   ]
  },
  {
   "cell_type": "code",
   "execution_count": 40,
   "id": "ad66a2cc-c2ab-47fe-bf5d-1485ca8cbe15",
   "metadata": {},
   "outputs": [
    {
     "name": "stdout",
     "output_type": "stream",
     "text": [
      "[10, 3, 22, 1, 5]\n"
     ]
    }
   ],
   "source": [
    "list = [10, 3, 22, 1, 5]\n",
    "bubble_sort(list, ascending_order, swap)\n",
    "print(list)"
   ]
  },
  {
   "cell_type": "markdown",
   "id": "7cdfef35-a781-4f4a-b4b0-ad5cf6bae769",
   "metadata": {},
   "source": [
    "Using these two functions, our **inner loop** looks way more readable, not to mention how flexible it is to pass a **comparator** function: we could sort in any order, and in case of a list of dictionaries, by any property."
   ]
  },
  {
   "cell_type": "markdown",
   "id": "331d7aa8-4bbe-4eab-9921-c15e4ac5b57d",
   "metadata": {},
   "source": [
    "# Bubble Sort Optimizations\n",
    "The algorithm above works just fine, but with a couple of small changes, we can make it perform better."
   ]
  },
  {
   "cell_type": "markdown",
   "id": "9c189e7e-6c5e-4dfc-a1a9-1cfef9e3ada5",
   "metadata": {},
   "source": [
    "### First Optimization\n",
    "To understand how we can do better, check the following animation:\n"
   ]
  },
  {
   "cell_type": "markdown",
   "id": "0b431a39-b123-4748-b499-745cf4210c89",
   "metadata": {},
   "source": [
    "### Second Optimization\n",
    "So far, in our implementation the **outer loop** runs `n` times for an array of `n` elements. But what happens if we're given an array that has only one item in the wrong order, or a list which is completely sorted? What's the point of running the outer loop `n` times then? For a small array of 10 or 20 numbers that's not a big deal, but imagine a list with thousands of items.\n",
    "\n",
    "In the first iteration of the outer loop, the inner loop traverses the array fully, swapping any number that is not in the right order. But imagine the scenario when there are no **swaps** in this first pass. That would mean that the list is already sorted; continuing looping in that case is a waste of time."
   ]
  },
  {
   "cell_type": "markdown",
   "id": "118fdb62-c603-45e6-add2-22944f1fa4dc",
   "metadata": {},
   "source": [
    "## Optimization Flag\n",
    "The algorithm above can be optimized for those situations where the argument list is already sorted. We just have to add a boolean flag, initially set to `False` at the beginning of each iteration of the outer loop (and obviously at the beginning of the program), that will become `True` as soon as a swap is performed."
   ]
  },
  {
   "cell_type": "code",
   "execution_count": 23,
   "id": "d85ca549-0c84-4db6-a1c9-ce332f61010f",
   "metadata": {},
   "outputs": [],
   "source": [
    "def bubble_sort(arr):\n",
    "    swapped = False\n",
    "    list_length = len(arr)\n",
    "\n",
    "    for i in range(list_length):\n",
    "        last_elem = list_length - i - 1\n",
    "        for j in range(0, last_elem):\n",
    "            if arr[j] > arr[j + 1]:\n",
    "                swap(arr, j)\n",
    "                swapped = True\n",
    "        if not swapped:\n",
    "            break"
   ]
  },
  {
   "cell_type": "code",
   "execution_count": 24,
   "id": "c47ec885-4b43-461c-8ca0-022c9f64bbdd",
   "metadata": {},
   "outputs": [
    {
     "name": "stdout",
     "output_type": "stream",
     "text": [
      "[1, 2, 3, 4, 5]\n"
     ]
    }
   ],
   "source": [
    "list = [1, 2, 3, 4, 5]\n",
    "bubble_sort(list)\n",
    "print(list)"
   ]
  }
 ],
 "metadata": {
  "kernelspec": {
   "display_name": "Python 3 (ipykernel)",
   "language": "python",
   "name": "python3"
  },
  "language_info": {
   "codemirror_mode": {
    "name": "ipython",
    "version": 3
   },
   "file_extension": ".py",
   "mimetype": "text/x-python",
   "name": "python",
   "nbconvert_exporter": "python",
   "pygments_lexer": "ipython3",
   "version": "3.11.4"
  }
 },
 "nbformat": 4,
 "nbformat_minor": 5
}
