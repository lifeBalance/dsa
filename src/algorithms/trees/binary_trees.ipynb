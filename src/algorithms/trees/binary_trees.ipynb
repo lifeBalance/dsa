{
 "cells": [
  {
   "cell_type": "markdown",
   "id": "5f0f223e-a9db-482f-8ff7-d8ec0758d4d4",
   "metadata": {},
   "source": [
    "%load ./BSTree.py"
   ]
  },
  {
   "cell_type": "markdown",
   "id": "10d5379b-1057-487e-a674-012d0d49494c",
   "metadata": {},
   "source": [
    "# Binary Trees\n",
    "Let's create a class to instantiate binary tree nodes:"
   ]
  },
  {
   "cell_type": "code",
   "execution_count": 1,
   "id": "14ac84fa-6076-4372-9d48-9d53903c78a9",
   "metadata": {},
   "outputs": [],
   "source": [
    "# %load BTNode.py\n",
    "class BTNode:\n",
    "  def __init__(self, value):\n",
    "    self.value = value\n",
    "    self.left = None\n",
    "    self.right = None\n"
   ]
  },
  {
   "cell_type": "markdown",
   "id": "bf965590-f89a-4adb-ac54-3c4144a71af6",
   "metadata": {},
   "source": [
    "Let's create another class, to create a binary tree:"
   ]
  },
  {
   "cell_type": "code",
   "execution_count": 2,
   "id": "508809c2-906e-4a44-972d-8b3d560cdf4b",
   "metadata": {},
   "outputs": [],
   "source": [
    "# %load BTree\n",
    "from BTNode import BTNode\n",
    "\n",
    "class BTree:\n",
    "  def __init__(self, value):\n",
    "    if value:\n",
    "        self.root = BTNode(value)\n",
    "    else:\n",
    "        self.root = None\n",
    "    "
   ]
  },
  {
   "cell_type": "markdown",
   "id": "fc279280-a298-4f3d-959b-5593d316f2cc",
   "metadata": {},
   "source": [
    "Now let's write some code to create a binary tree, and add some nodes to it:"
   ]
  },
  {
   "cell_type": "code",
   "execution_count": 4,
   "id": "8de680ef-b24e-4170-9218-738ac8beb845",
   "metadata": {},
   "outputs": [],
   "source": [
    "from BTree import BTree\n",
    "from BTNode import BTNode\n",
    "\n",
    "# Create a small tree with a few nodes\n",
    "tree = BTree(1)\n",
    "tree.root.left = BTNode(2)\n",
    "tree.root.right = BTNode(3)\n",
    "tree.root.left.left = BTNode(4)\n",
    "tree.root.left.right = BTNode(5)\n",
    "tree.root.right.left = BTNode(6)\n",
    "tree.root.right.right = BTNode(7)\n",
    "tree.root.right.right.right = BTNode(8)\n",
    "\n",
    "# The code above generates a tree like this:\n",
    "#                   1\n",
    "#                 /   \\\n",
    "#               /      \\\n",
    "#             2         3\n",
    "#           /   \\     /   \\\n",
    "#         4      5  6      7"
   ]
  },
  {
   "cell_type": "code",
   "execution_count": null,
   "id": "19e7aaed-55b0-4cb3-b4a4-deb78015e04d",
   "metadata": {},
   "outputs": [],
   "source": []
  }
 ],
 "metadata": {
  "kernelspec": {
   "display_name": "Python 3 (ipykernel)",
   "language": "python",
   "name": "python3"
  },
  "language_info": {
   "codemirror_mode": {
    "name": "ipython",
    "version": 3
   },
   "file_extension": ".py",
   "mimetype": "text/x-python",
   "name": "python",
   "nbconvert_exporter": "python",
   "pygments_lexer": "ipython3",
   "version": "3.12.0"
  }
 },
 "nbformat": 4,
 "nbformat_minor": 5
}
